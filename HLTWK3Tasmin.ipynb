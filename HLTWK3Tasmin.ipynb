{
 "metadata": {
  "language_info": {
   "codemirror_mode": {
    "name": "ipython",
    "version": 3
   },
   "file_extension": ".py",
   "mimetype": "text/x-python",
   "name": "python",
   "nbconvert_exporter": "python",
   "pygments_lexer": "ipython3",
   "version": "3.9.5"
  },
  "orig_nbformat": 4,
  "kernelspec": {
   "name": "python3",
   "display_name": "Python 3.9.5 64-bit"
  },
  "interpreter": {
   "hash": "c958e67581bf5013e79959b0fec4eed6d80993cf9b82d7c6eef8fa484b7cf595"
  }
 },
 "nbformat": 4,
 "nbformat_minor": 2,
 "cells": [
  {
   "cell_type": "code",
   "execution_count": 25,
   "metadata": {},
   "outputs": [],
   "source": [
    "#Writing to a file\n",
    "\n",
    "my_file = open(\"Numbers.txt\", \"w\")\n",
    "\n",
    "my_file.write(\"3, 45, 83, 21\")\n",
    "\n",
    "my_file.close ()\n"
   ]
  },
  {
   "cell_type": "code",
   "execution_count": 26,
   "metadata": {},
   "outputs": [
    {
     "output_type": "stream",
     "name": "stdout",
     "text": [
      "3, 45, 83, 21\n"
     ]
    }
   ],
   "source": [
    "#Reading from a file \n",
    "\n",
    "with open (\"Numbers.txt\", \"r\") as myfile:\n",
    "    data = myfile.read().replace(\"\\n\",\",\")\n",
    "\n",
    "myfile.close ()\n",
    "\n",
    "print(data)"
   ]
  },
  {
   "cell_type": "code",
   "execution_count": 27,
   "metadata": {},
   "outputs": [],
   "source": [
    "#Appending a file\n",
    "\n",
    "my_file = open(\"Numbers.txt\", \"a\")\n",
    "\n",
    "my_file.write(\" Do you like these numbers?\")\n",
    "\n",
    "my_file.close()"
   ]
  },
  {
   "cell_type": "code",
   "execution_count": 11,
   "metadata": {},
   "outputs": [
    {
     "output_type": "stream",
     "name": "stdout",
     "text": [
      "Your Grade is a D\n"
     ]
    },
    {
     "output_type": "error",
     "ename": "ValueError",
     "evalue": "could not convert string to float: ''",
     "traceback": [
      "\u001b[1;31m---------------------------------------------------------------------------\u001b[0m",
      "\u001b[1;31mValueError\u001b[0m                                Traceback (most recent call last)",
      "\u001b[1;32m<ipython-input-11-0cd35d9f878a>\u001b[0m in \u001b[0;36m<module>\u001b[1;34m\u001b[0m\n\u001b[0;32m      1\u001b[0m \u001b[1;32mfor\u001b[0m \u001b[0mi\u001b[0m \u001b[1;32min\u001b[0m \u001b[0mrange\u001b[0m\u001b[1;33m(\u001b[0m\u001b[1;36m0\u001b[0m\u001b[1;33m,\u001b[0m\u001b[1;36m100\u001b[0m\u001b[1;33m)\u001b[0m\u001b[1;33m:\u001b[0m\u001b[1;33m\u001b[0m\u001b[1;33m\u001b[0m\u001b[0m\n\u001b[1;32m----> 2\u001b[1;33m     \u001b[0mmark_grade\u001b[0m \u001b[1;33m=\u001b[0m \u001b[0mfloat\u001b[0m\u001b[1;33m(\u001b[0m\u001b[0minput\u001b[0m\u001b[1;33m(\u001b[0m\u001b[1;34m\"What is your percentage mark?\"\u001b[0m\u001b[1;33m)\u001b[0m\u001b[1;33m)\u001b[0m\u001b[1;33m\u001b[0m\u001b[1;33m\u001b[0m\u001b[0m\n\u001b[0m\u001b[0;32m      3\u001b[0m \u001b[1;33m\u001b[0m\u001b[0m\n\u001b[0;32m      4\u001b[0m     \u001b[1;32mif\u001b[0m \u001b[0mmark_grade\u001b[0m \u001b[1;33m>\u001b[0m \u001b[1;36m0\u001b[0m \u001b[1;32mand\u001b[0m \u001b[0mmark_grade\u001b[0m \u001b[1;33m<\u001b[0m \u001b[1;36m50\u001b[0m\u001b[1;33m:\u001b[0m\u001b[1;33m\u001b[0m\u001b[1;33m\u001b[0m\u001b[0m\n\u001b[0;32m      5\u001b[0m         \u001b[0mprint\u001b[0m\u001b[1;33m(\u001b[0m\u001b[1;34m\"Your Grade is an F\"\u001b[0m\u001b[1;33m)\u001b[0m\u001b[1;33m\u001b[0m\u001b[1;33m\u001b[0m\u001b[0m\n",
      "\u001b[1;31mValueError\u001b[0m: could not convert string to float: ''"
     ]
    }
   ],
   "source": [
    "#Write a program to ask a student for their percentage mark and convert this to a grade. The conversion will be done in a function called mark_grade.\n",
    "\n",
    "for i in range(0,100):\n",
    "    mark_grade = float(input(\"What is your percentage mark?\"))\n",
    "\n",
    "    if mark_grade > 0 and mark_grade < 50:\n",
    "        print(\"Your Grade is an F\")\n",
    "\n",
    "    elif mark_grade >=50 and mark_grade <=60:\n",
    "        print(\"Your Grade is a D\")\n",
    "\n",
    "    elif mark_grade > 60 and mark_grade <=70:\n",
    "        print(\"Your Grade is a C\")\n",
    "    \n",
    "    elif mark_grade > 70 and mark_grade <=80:\n",
    "        print(\"Your Grade is a B\")\n",
    "\n",
    "    elif mark_grade > 80 and mark_grade <=90:\n",
    "        print(\"Your Grade is an A\")\n",
    "\n",
    "    elif mark_grade > 90 and mark_grade <=100:\n",
    "        print(\"Your Grade is an A*\")\n",
    "\n",
    "    else:\n",
    "        print(\"Oh No, something went wrong. Did you type a percentage grade between 0 and 100?\")\n"
   ]
  },
  {
   "cell_type": "code",
   "execution_count": null,
   "metadata": {},
   "outputs": [],
   "source": [
    "#Create a 1D array of numbers from 0 to 9\n",
    "\n",
    "import numpy as np\n",
    "\n",
    "arr = np.array([1, 2, 3, 4, 5])\n",
    "\n",
    "print(arr)"
   ]
  },
  {
   "cell_type": "code",
   "execution_count": 10,
   "metadata": {},
   "outputs": [
    {
     "output_type": "execute_result",
     "data": {
      "text/plain": [
       "array([[ True,  True,  True],\n",
       "       [ True,  True,  True],\n",
       "       [ True,  True,  True]])"
      ]
     },
     "metadata": {},
     "execution_count": 10
    }
   ],
   "source": [
    "#Create a 3×3 NumPy array of all Boolean value Trues\n",
    "\n",
    "import numpy as np\n",
    "\n",
    "np.ones((3,3), dtype=bool)"
   ]
  },
  {
   "cell_type": "code",
   "execution_count": 11,
   "metadata": {},
   "outputs": [
    {
     "output_type": "execute_result",
     "data": {
      "text/plain": [
       "array([1, 3, 5, 7, 9])"
      ]
     },
     "metadata": {},
     "execution_count": 11
    }
   ],
   "source": [
    "#Extract all odd numbers from array of 1-10\n",
    "\n",
    "import numpy as np\n",
    "\n",
    "a = np.array([1,2,3,4,5,6,7,8,9,10])\n",
    "a[a % 2 == 1]"
   ]
  },
  {
   "cell_type": "code",
   "execution_count": 37,
   "metadata": {},
   "outputs": [],
   "source": [
    "#Replace all odd numbers in an array of 1-10 with the value -1\n",
    "\n",
    "import numpy as np\n",
    "\n",
    "a = np.array([1, 2, 3, 4, 5, 6, 7, 8, 9, 10])\n",
    "a[a%2 == 1] = -1"
   ]
  },
  {
   "cell_type": "code",
   "execution_count": 34,
   "metadata": {},
   "outputs": [
    {
     "output_type": "stream",
     "name": "stdout",
     "text": [
      "[[1 2 3 4]\n [5 6 7 8]]\n"
     ]
    }
   ],
   "source": [
    "#Convert a 1D array to a 2D array with 2 rows\n",
    "\n",
    "import numpy as np \n",
    "\n",
    "arr = np.array([1,2,3,4,5,6,7,8])\n",
    "\n",
    "arr_2d = np.reshape(arr, (2,4))\n",
    "\n",
    "print(arr_2d)"
   ]
  },
  {
   "cell_type": "code",
   "execution_count": 91,
   "metadata": {},
   "outputs": [
    {
     "output_type": "stream",
     "name": "stdout",
     "text": [
      "[[ 1  5 10]\n [ 2  4  8]]\n30\n"
     ]
    }
   ],
   "source": [
    "#Create two arrays a and b, stack these two arrays vertically use the np.dot and np.sum to calculate totals\n",
    "\n",
    "import numpy as np\n",
    "\n",
    "a = np.array([1, 5, 10])\n",
    "b = np.array([2, 4, 8])\n",
    "\n",
    "c= np.vstack((a,b))\n",
    "\n",
    "print(c)\n",
    "\n",
    "d = np.dot(a,b)\n",
    "sum = np.sum(c)\n",
    "\n",
    "print(sum)"
   ]
  },
  {
   "cell_type": "code",
   "execution_count": 7,
   "metadata": {},
   "outputs": [
    {
     "output_type": "execute_result",
     "data": {
      "text/plain": [
       "array([1, 1, 1, 2, 2, 2, 3, 3, 3, 1, 2, 3, 1, 2, 3, 1, 2, 3])"
      ]
     },
     "metadata": {},
     "execution_count": 7
    }
   ],
   "source": [
    "#Extension -  Create the following pattern without hardcoding. Use only NumPy functions.\n",
    "\n",
    "import numpy as np \n",
    "\n",
    "a = np.array([1,2,3])\n",
    "\n",
    "np.r_[(np.repeat(a,3), np.tile(a,3))]"
   ]
  },
  {
   "cell_type": "code",
   "execution_count": 20,
   "metadata": {},
   "outputs": [
    {
     "output_type": "execute_result",
     "data": {
      "text/plain": [
       "array([6, 7, 8, 9])"
      ]
     },
     "metadata": {},
     "execution_count": 20
    }
   ],
   "source": [
    "#Extension - In two arrays a ( 1,2,3,4,5) and b ( 4,5,6,7,8,9) – remove all repeating items present in array b.\n",
    "\n",
    "import numpy as np \n",
    "\n",
    "a = np.array = ([1,2,3,4,5])\n",
    "b = np.array = ([4,5,6,7,8,9])\n",
    "\n",
    "np.setdiff1d(b, a)\n"
   ]
  },
  {
   "cell_type": "code",
   "execution_count": null,
   "metadata": {},
   "outputs": [],
   "source": []
  }
 ]
}